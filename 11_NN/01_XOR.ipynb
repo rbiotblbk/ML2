{
 "cells": [
  {
   "cell_type": "markdown",
   "metadata": {},
   "source": [
    "# XOR\n",
    "\n",
    "- > pip install tensorflow\n",
    "- > pip install keras"
   ]
  },
  {
   "cell_type": "code",
   "execution_count": 1,
   "metadata": {},
   "outputs": [],
   "source": [
    "import numpy as np"
   ]
  },
  {
   "cell_type": "markdown",
   "metadata": {},
   "source": [
    "# Dataset"
   ]
  },
  {
   "cell_type": "code",
   "execution_count": 3,
   "metadata": {},
   "outputs": [],
   "source": [
    "inputs = np.array([[0,0],[0,1],[1,0],[1,1],])\n",
    "output = np.array([[0],[1],[1],[0],])"
   ]
  },
  {
   "cell_type": "markdown",
   "metadata": {},
   "source": [
    "# Create the model"
   ]
  },
  {
   "cell_type": "code",
   "execution_count": 2,
   "metadata": {},
   "outputs": [],
   "source": [
    "input_layer = 2\n",
    "hidden_layer =2\n",
    "output_layer = 1\n"
   ]
  },
  {
   "cell_type": "markdown",
   "metadata": {},
   "source": [
    "# Define weights and biases"
   ]
  },
  {
   "cell_type": "code",
   "execution_count": 4,
   "metadata": {},
   "outputs": [
    {
     "name": "stdout",
     "output_type": "stream",
     "text": [
      "Hidden_weights: [[0.04279454 0.55587166]\n",
      " [0.26325092 0.83268907]]\n",
      "Output_weights: [[0.2654385 ]\n",
      " [0.81515062]]\n"
     ]
    }
   ],
   "source": [
    "hidden_weights = np.random.uniform(size=(input_layer, hidden_layer))\n",
    "hidden_bias = np.random.uniform(size= (1, hidden_layer))\n",
    "\n",
    "\n",
    "output_weights = np.random.uniform(size=(hidden_layer, output_layer))\n",
    "output_bias = np.random.uniform(size= (1, output_layer))\n",
    "\n",
    "\n",
    "# Initial weights \n",
    "print(f\"Hidden_weights:\", hidden_weights)\n",
    "print(f\"Output_weights:\", output_weights)"
   ]
  },
  {
   "cell_type": "markdown",
   "metadata": {},
   "source": [
    "# Define the required functions"
   ]
  },
  {
   "cell_type": "code",
   "execution_count": 5,
   "metadata": {},
   "outputs": [],
   "source": [
    "def sigmoid(x):\n",
    "    return 1 / (1 + np.exp(-x))\n",
    "\n",
    "def sigmoid_derivative_(x):\n",
    "    return sigmoid(x) * (1 - sigmoid(x))\n",
    "\n"
   ]
  },
  {
   "cell_type": "markdown",
   "metadata": {},
   "source": [
    "# Feed Forward"
   ]
  },
  {
   "cell_type": "code",
   "execution_count": 6,
   "metadata": {},
   "outputs": [
    {
     "name": "stdout",
     "output_type": "stream",
     "text": [
      "[[0.38766367]\n",
      " [0.43213795]\n",
      " [0.41512494]\n",
      " [0.45791622]]\n"
     ]
    }
   ],
   "source": [
    "hidden_activation = np.dot(inputs, hidden_weights) # sun = x1*w1 + x2*w2\n",
    "hidden_activation -= hidden_bias # sum -= bias \n",
    "hidden_activation = sigmoid(hidden_activation) # y = sigmoid(the sum)\n",
    "\n",
    "\n",
    "output_activation = np.dot(hidden_activation, output_weights)\n",
    "output_activation -= output_bias\n",
    "predicted_output = sigmoid(output_activation) # y5 = sigmoid(the sum)\n",
    "\n",
    "\n",
    "print(predicted_output)\n"
   ]
  },
  {
   "cell_type": "markdown",
   "metadata": {},
   "source": [
    "# Back Propagation"
   ]
  },
  {
   "cell_type": "code",
   "execution_count": null,
   "metadata": {},
   "outputs": [],
   "source": [
    "# Optional Home Work"
   ]
  }
 ],
 "metadata": {
  "kernelspec": {
   "display_name": "Python 3",
   "language": "python",
   "name": "python3"
  },
  "language_info": {
   "codemirror_mode": {
    "name": "ipython",
    "version": 3
   },
   "file_extension": ".py",
   "mimetype": "text/x-python",
   "name": "python",
   "nbconvert_exporter": "python",
   "pygments_lexer": "ipython3",
   "version": "3.11.6"
  }
 },
 "nbformat": 4,
 "nbformat_minor": 2
}
