{
 "cells": [
  {
   "cell_type": "markdown",
   "metadata": {},
   "source": [
    "# Transfer Learning\n",
    "\n",
    "The model to be used is VGG16, we will train only the FC layers (top layers).\n",
    "\n",
    "\n",
    "## Examples of pre-trained models\n",
    "\n",
    "| Model      | Year Published | Parameters (Approx.) | Typical Use Cases                                       | Training Dataset   |\n",
    "|------------|----------------|----------------------|---------------------------------------------------------|--------------------|\n",
    "| VGG16      | 2014           | 138 million          | Image classification, transfer learning in CNNs        | ImageNet           |\n",
    "| ResNet50   | 2015           | 25 million           | Deep residual learning for image recognition           | ImageNet           |\n",
    "| InceptionV3| 2015           | 23 million           | Large-scale image recognition with fewer parameters    | ImageNet           |\n",
    "| MobileNet  | 2017           | 4.2 million          | Efficient classification for mobile and edge devices   | ImageNet           |"
   ]
  },
  {
   "cell_type": "markdown",
   "metadata": {},
   "source": [
    "## Architecture VGG16\n",
    "- Conv1\n",
    "- Conv1\n",
    "- Pooling\n",
    "- Conv2\n",
    "- Conv2\n",
    "- Pooling\n",
    "- Conv3\n",
    "- Conv3\n",
    "- Conv3\n",
    "- Pooling\n",
    "- Conv4\n",
    "- Conv4\n",
    "- Conv4\n",
    "- Pooling\n",
    "- Conv5\n",
    "- Conv5\n",
    "- Conv5\n",
    "- Pooling\n",
    "- FC\n",
    "- FC\n",
    "- FC\n",
    "- Output"
   ]
  },
  {
   "cell_type": "code",
   "execution_count": 20,
   "metadata": {},
   "outputs": [],
   "source": [
    "import keras\n",
    "\n",
    "from keras.models import Sequential \n",
    "from keras.layers import Conv2D, MaxPool2D, Flatten, Dense \n",
    "from tensorflow.keras.applications.vgg16 import VGG16 \n",
    "\n",
    "from keras.preprocessing.image import ImageDataGenerator\n",
    "import matplotlib.pyplot as plt "
   ]
  },
  {
   "cell_type": "markdown",
   "metadata": {},
   "source": [
    "# Load Data\n",
    "\n",
    "- Train folder: with cats and dogs sub folders\n",
    "- Test folder: with cats and dogs sub folders"
   ]
  },
  {
   "cell_type": "code",
   "execution_count": 16,
   "metadata": {},
   "outputs": [
    {
     "name": "stdout",
     "output_type": "stream",
     "text": [
      "Found 4 images belonging to 2 classes.\n",
      "Found 4 images belonging to 2 classes.\n"
     ]
    }
   ],
   "source": [
    "# Train Data\n",
    "train_data_gen = ImageDataGenerator(rescale=1/255)\n",
    "train_data = train_data_gen.flow_from_directory(directory= \"./transferlearning/train\", target_size= (224,244))\n",
    "\n",
    "# Test Data\n",
    "test_data_gen = ImageDataGenerator(rescale=1/255)\n",
    "test_data = test_data_gen.flow_from_directory(directory= \"./transferlearning/test\", target_size= (224,244))"
   ]
  },
  {
   "cell_type": "markdown",
   "metadata": {},
   "source": [
    "# Build The model"
   ]
  },
  {
   "cell_type": "code",
   "execution_count": 17,
   "metadata": {},
   "outputs": [],
   "source": [
    "# 1. Import the External Model \"VGG16\"\n",
    "VGG = VGG16(input_shape=(224, 224, 3), weights= \"imagenet\", include_top= False)\n",
    "\n",
    "\n",
    "VGG.trainable = False # Dont train the VGG layers\n"
   ]
  },
  {
   "cell_type": "code",
   "execution_count": 18,
   "metadata": {},
   "outputs": [],
   "source": [
    "# 2. Build the Fully Connected layers (including the external model)\n",
    "\n",
    "model = keras.Sequential([\n",
    "    VGG, \n",
    "    keras.layers.Flatten(),\n",
    "    keras.layers.Dense(256, activation= \"relu\"),\n",
    "    keras.layers.Dense(128, activation= \"relu\"),    \n",
    "    keras.layers.Dense(2, activation= \"softmax\") # outputs \"cats\" and \"dogs\"\n",
    "\n",
    "])\n",
    "\n",
    "\n",
    "model.compile(optimizer=\"adam\", loss=keras.losses.categorical_crossentropy, metrics=[\"accuracy\"])"
   ]
  },
  {
   "cell_type": "code",
   "execution_count": 7,
   "metadata": {},
   "outputs": [
    {
     "name": "stdout",
     "output_type": "stream",
     "text": [
      "Model: \"sequential\"\n",
      "_________________________________________________________________\n",
      " Layer (type)                Output Shape              Param #   \n",
      "=================================================================\n",
      " vgg16 (Functional)          (None, 7, 7, 512)         14714688  \n",
      "                                                                 \n",
      " flatten (Flatten)           (None, 25088)             0         \n",
      "                                                                 \n",
      " dense (Dense)               (None, 256)               6422784   \n",
      "                                                                 \n",
      " dense_1 (Dense)             (None, 128)               32896     \n",
      "                                                                 \n",
      " dense_2 (Dense)             (None, 2)                 258       \n",
      "                                                                 \n",
      "=================================================================\n",
      "Total params: 21170626 (80.76 MB)\n",
      "Trainable params: 6455938 (24.63 MB)\n",
      "Non-trainable params: 14714688 (56.13 MB)\n",
      "_________________________________________________________________\n"
     ]
    }
   ],
   "source": [
    "model.summary()"
   ]
  },
  {
   "cell_type": "markdown",
   "metadata": {},
   "source": [
    "# Train the model"
   ]
  },
  {
   "cell_type": "code",
   "execution_count": 23,
   "metadata": {},
   "outputs": [
    {
     "name": "stdout",
     "output_type": "stream",
     "text": [
      "Epoch 1/50\n",
      "1/1 [==============================] - 2s 2s/step - loss: 9.1990e-05 - accuracy: 1.0000 - val_loss: 0.7258 - val_accuracy: 0.7500\n",
      "Epoch 2/50\n",
      "1/1 [==============================] - 2s 2s/step - loss: 1.0848e-05 - accuracy: 1.0000 - val_loss: 1.0624 - val_accuracy: 0.7500\n",
      "Epoch 3/50\n",
      "1/1 [==============================] - 2s 2s/step - loss: 5.6922e-06 - accuracy: 1.0000 - val_loss: 1.3779 - val_accuracy: 0.7500\n",
      "Epoch 4/50\n",
      "1/1 [==============================] - 2s 2s/step - loss: 6.0498e-06 - accuracy: 1.0000 - val_loss: 1.6716 - val_accuracy: 0.7500\n",
      "Epoch 5/50\n",
      "1/1 [==============================] - 2s 2s/step - loss: 7.0034e-06 - accuracy: 1.0000 - val_loss: 1.9404 - val_accuracy: 0.7500\n",
      "Epoch 6/50\n",
      "1/1 [==============================] - 2s 2s/step - loss: 8.4935e-06 - accuracy: 1.0000 - val_loss: 2.1896 - val_accuracy: 0.7500\n",
      "Epoch 7/50\n",
      "1/1 [==============================] - 2s 2s/step - loss: 1.0341e-05 - accuracy: 1.0000 - val_loss: 2.4214 - val_accuracy: 0.7500\n",
      "Epoch 8/50\n",
      "1/1 [==============================] - 2s 2s/step - loss: 1.2576e-05 - accuracy: 1.0000 - val_loss: 2.6378 - val_accuracy: 0.7500\n",
      "Epoch 9/50\n",
      "1/1 [==============================] - 2s 2s/step - loss: 1.5318e-05 - accuracy: 1.0000 - val_loss: 2.8396 - val_accuracy: 0.7500\n",
      "Epoch 10/50\n",
      "1/1 [==============================] - 2s 2s/step - loss: 1.8626e-05 - accuracy: 1.0000 - val_loss: 3.0265 - val_accuracy: 0.7500\n",
      "Epoch 11/50\n",
      "1/1 [==============================] - 2s 2s/step - loss: 2.2440e-05 - accuracy: 1.0000 - val_loss: 3.1892 - val_accuracy: 0.7500\n",
      "Epoch 12/50\n"
     ]
    }
   ],
   "source": [
    "EPOCHS = 10\n",
    "\n",
    "history = model.fit(x= train_data, validation_data=test_data, epochs= EPOCHS)"
   ]
  },
  {
   "cell_type": "markdown",
   "metadata": {},
   "source": [
    "# Plot results"
   ]
  },
  {
   "cell_type": "code",
   "execution_count": 22,
   "metadata": {},
   "outputs": [
    {
     "data": {
      "image/png": "[encoded data removed]",
      "text/plain": [
       "<Figure size 640x480 with 1 Axes>"
      ]
     },
     "metadata": {},
     "output_type": "display_data"
    }
   ],
   "source": [
    "\n",
    "plt.plot(history.history[\"accuracy\"])\n",
    "plt.plot(history.history[\"val_accuracy\"])\n",
    " \n",
    "plt.title(\"Model Accuracy\")\n",
    "plt.xlabel(\"Epoch\")\n",
    "plt.ylabel(\"Accuracy\")\n",
    "\n",
    "plt.show()\n"
   ]
  }
 ],
 "metadata": {
  "kernelspec": {
   "display_name": "Python 3",
   "language": "python",
   "name": "python3"
  },
  "language_info": {
   "codemirror_mode": {
    "name": "ipython",
    "version": 3
   },
   "file_extension": ".py",
   "mimetype": "text/x-python",
   "name": "python",
   "nbconvert_exporter": "python",
   "pygments_lexer": "ipython3",
   "version": "3.11.6"
  }
 },
 "nbformat": 4,
 "nbformat_minor": 2
}
