{
 "cells": [
  {
   "cell_type": "markdown",
   "metadata": {},
   "source": [
    "# Data Augmentation"
   ]
  },
  {
   "cell_type": "code",
   "execution_count": 1,
   "metadata": {},
   "outputs": [
    {
     "name": "stdout",
     "output_type": "stream",
     "text": [
      "WARNING:tensorflow:From c:\\Python\\Python3116\\Lib\\site-packages\\keras\\src\\losses.py:2976: The name tf.losses.sparse_softmax_cross_entropy is deprecated. Please use tf.compat.v1.losses.sparse_softmax_cross_entropy instead.\n",
      "\n"
     ]
    }
   ],
   "source": [
    "import os\n",
    "import tensorflow as tf\n",
    "from tensorflow.keras.preprocessing.image import ImageDataGenerator, img_to_array, load_img\n",
    "import matplotlib.pyplot as plt"
   ]
  },
  {
   "cell_type": "markdown",
   "metadata": {},
   "source": [
    "# 1. Variant"
   ]
  },
  {
   "cell_type": "code",
   "execution_count": 2,
   "metadata": {},
   "outputs": [],
   "source": [
    "def augment_images_from_directory(directory, save_to_dir, batch_size=32, num_images=10):\n",
    "    datagen = ImageDataGenerator(\n",
    "                    rotation_range=40,       # Rotate the image within a range of +/- 40 degrees\n",
    "                    width_shift_range=0.2,   # Horizontally shift the image by up to 20% of its width\n",
    "                    height_shift_range=0.2,  # Vertically shift the image by up to 20% of its height\n",
    "                    shear_range=0.2,         # Shear the image by up to 20 degrees\n",
    "                    zoom_range=0.2,          # Randomly zoom into the image by up to 20%\n",
    "                    horizontal_flip=True,    # Randomly flip the image horizontally\n",
    "                    fill_mode='nearest'      # Fill in new pixels with the nearest pixel values\n",
    "                ) \n",
    "    \n",
    "\n",
    "     # Load images and transform them\n",
    "    for filename in os.listdir(directory):\n",
    "        img_path = os.path.join(directory, filename)\n",
    "        img = load_img(img_path)\n",
    "        x = img_to_array(img)\n",
    "        x = x.reshape((1,) + x.shape)\n",
    "\n",
    "        # Generate and save augmented images\n",
    "        i = 0\n",
    "        for batch in datagen.flow(x, batch_size=batch_size, save_to_dir=save_to_dir, save_prefix='aug', save_format='jpeg'):\n",
    "            i += 1\n",
    "            if i >= num_images:\n",
    "                break"
   ]
  },
  {
   "cell_type": "code",
   "execution_count": 3,
   "metadata": {},
   "outputs": [],
   "source": [
    "def main():\n",
    "    original_folder = \"./cats\" \n",
    "    augmented_folder =\"./augmented_folder\"\n",
    "\n",
    "    # create the folder if not exists\n",
    "    if not os.path.exists(augmented_folder):\n",
    "        os.makedirs(augmented_folder)\n",
    "\n",
    "\n",
    "    augment_images_from_directory(original_folder, augmented_folder)\n",
    "\n",
    "if __name__ == \"__main__\":\n",
    "    main()"
   ]
  },
  {
   "cell_type": "markdown",
   "metadata": {},
   "source": [
    "# 2. Variant "
   ]
  },
  {
   "cell_type": "code",
   "execution_count": null,
   "metadata": {},
   "outputs": [],
   "source": [
    "# write your code"
   ]
  }
 ],
 "metadata": {
  "kernelspec": {
   "display_name": "Python 3",
   "language": "python",
   "name": "python3"
  },
  "language_info": {
   "codemirror_mode": {
    "name": "ipython",
    "version": 3
   },
   "file_extension": ".py",
   "mimetype": "text/x-python",
   "name": "python",
   "nbconvert_exporter": "python",
   "pygments_lexer": "ipython3",
   "version": "3.11.6"
  }
 },
 "nbformat": 4,
 "nbformat_minor": 2
}
