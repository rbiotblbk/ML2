{
 "cells": [
  {
   "cell_type": "markdown",
   "metadata": {},
   "source": [
    "# Übung (Solution) : CNN MNIST Fashion"
   ]
  },
  {
   "cell_type": "code",
   "execution_count": 1,
   "metadata": {},
   "outputs": [
    {
     "name": "stdout",
     "output_type": "stream",
     "text": [
      "WARNING:tensorflow:From c:\\Python\\Python3116\\Lib\\site-packages\\keras\\src\\losses.py:2976: The name tf.losses.sparse_softmax_cross_entropy is deprecated. Please use tf.compat.v1.losses.sparse_softmax_cross_entropy instead.\n",
      "\n"
     ]
    }
   ],
   "source": [
    "import numpy as np\n",
    "import tensorflow as tf\n",
    "from tensorflow.keras.datasets import fashion_mnist\n",
    "from tensorflow.keras.models import Sequential\n",
    "from tensorflow.keras.layers import Conv2D, MaxPooling2D, Flatten, Dense, Dropout\n",
    "from tensorflow.keras.utils import to_categorical\n",
    "from sklearn.metrics import classification_report\n",
    "import matplotlib.pyplot as plt\n",
    "from tensorflow.keras.optimizers import Adam\n",
    "\n",
    "from keras_visualizer import visualizer\n",
    "from tensorflow.keras.callbacks import EarlyStopping, CSVLogger, ModelCheckpoint, TensorBoard"
   ]
  },
  {
   "cell_type": "markdown",
   "metadata": {},
   "source": [
    "# Load Data"
   ]
  },
  {
   "cell_type": "code",
   "execution_count": 2,
   "metadata": {},
   "outputs": [],
   "source": [
    "(x_train, y_train), (x_test, y_test) = fashion_mnist.load_data()"
   ]
  },
  {
   "cell_type": "markdown",
   "metadata": {},
   "source": [
    "# Prepare the data"
   ]
  },
  {
   "cell_type": "code",
   "execution_count": 3,
   "metadata": {},
   "outputs": [],
   "source": [
    "# Normalization\n",
    "x_train = x_train/255\n",
    "x_test = x_test/255\n",
    "\n",
    "# Reshaping -> add a dim for the channel dimension (CNN)\n",
    "x_train = np.expand_dims(x_train,axis=-1)\n",
    "x_test = np.expand_dims(x_test,axis=-1)\n",
    "\n"
   ]
  },
  {
   "cell_type": "code",
   "execution_count": 4,
   "metadata": {},
   "outputs": [],
   "source": [
    "y_train = to_categorical(y_train, 10)\n",
    "y_test = to_categorical(y_test, 10)"
   ]
  },
  {
   "cell_type": "markdown",
   "metadata": {},
   "source": [
    "# Build the model"
   ]
  },
  {
   "cell_type": "code",
   "execution_count": 9,
   "metadata": {},
   "outputs": [],
   "source": [
    "model = Sequential([\n",
    "    Conv2D(32, (3,3), activation=\"relu\", input_shape=(28,28,1), name=\"MyConv1\"), # input layer + Conv layer\n",
    "    MaxPooling2D((2,2), name=\"MyMaxPool1\") ,\n",
    "    \n",
    "    Conv2D(32, (3,3), activation=\"relu\", name =\"MyConv2\"),\n",
    "    MaxPooling2D((2,2), name=\"MyMaxPool2\") ,\n",
    "\n",
    "    Flatten(name =\"MyFlatten1\"),\n",
    "\n",
    "    Dense(128,activation=\"relu\", name=\"HDL1\"),\n",
    "    Dropout(0.5, name=\"MyDropOut\"),\n",
    "    Dense(10,activation=\"softmax\", name = \"MyOutput\") # output layer\n",
    "\n",
    "], \"MyModelSeq\")"
   ]
  },
  {
   "cell_type": "code",
   "execution_count": 10,
   "metadata": {},
   "outputs": [
    {
     "name": "stdout",
     "output_type": "stream",
     "text": [
      "Model: \"MyModelSeq\"\n",
      "_________________________________________________________________\n",
      " Layer (type)                Output Shape              Param #   \n",
      "=================================================================\n",
      " MyConv1 (Conv2D)            (None, 26, 26, 32)        320       \n",
      "                                                                 \n",
      " MyMaxPool1 (MaxPooling2D)   (None, 13, 13, 32)        0         \n",
      "                                                                 \n",
      " MyConv2 (Conv2D)            (None, 11, 11, 32)        9248      \n",
      "                                                                 \n",
      " MyMaxPool2 (MaxPooling2D)   (None, 5, 5, 32)          0         \n",
      "                                                                 \n",
      " MyFlatten1 (Flatten)        (None, 800)               0         \n",
      "                                                                 \n",
      " HDL1 (Dense)                (None, 128)               102528    \n",
      "                                                                 \n",
      " MyDropOut (Dropout)         (None, 128)               0         \n",
      "                                                                 \n",
      " MyOutput (Dense)            (None, 10)                1290      \n",
      "                                                                 \n",
      "=================================================================\n",
      "Total params: 113386 (442.91 KB)\n",
      "Trainable params: 113386 (442.91 KB)\n",
      "Non-trainable params: 0 (0.00 Byte)\n",
      "_________________________________________________________________\n"
     ]
    }
   ],
   "source": [
    "model.summary()"
   ]
  },
  {
   "cell_type": "markdown",
   "metadata": {},
   "source": [
    "# Callbacks"
   ]
  },
  {
   "cell_type": "code",
   "execution_count": 11,
   "metadata": {},
   "outputs": [],
   "source": [
    "my_callback_list =[\n",
    "    EarlyStopping(patience=5, min_delta=0.0001),\n",
    "    CSVLogger(\"./training_cnn.log\"),\n",
    "    ModelCheckpoint(filepath=\"./models/cnn_{epoch:02d}_{val_loss:.2f}.keras\")    \n",
    "]"
   ]
  },
  {
   "cell_type": "markdown",
   "metadata": {},
   "source": [
    "# Train the model"
   ]
  },
  {
   "cell_type": "code",
   "execution_count": 12,
   "metadata": {},
   "outputs": [
    {
     "name": "stdout",
     "output_type": "stream",
     "text": [
      "Epoch 1/10\n",
      "WARNING:tensorflow:From c:\\Python\\Python3116\\Lib\\site-packages\\keras\\src\\utils\\tf_utils.py:492: The name tf.ragged.RaggedTensorValue is deprecated. Please use tf.compat.v1.ragged.RaggedTensorValue instead.\n",
      "\n",
      "WARNING:tensorflow:From c:\\Python\\Python3116\\Lib\\site-packages\\keras\\src\\engine\\base_layer_utils.py:384: The name tf.executing_eagerly_outside_functions is deprecated. Please use tf.compat.v1.executing_eagerly_outside_functions instead.\n",
      "\n",
      "750/750 [==============================] - 14s 16ms/step - loss: 0.6370 - accuracy: 0.7708 - val_loss: 0.4177 - val_accuracy: 0.8487\n",
      "Epoch 2/10\n",
      "750/750 [==============================] - 12s 16ms/step - loss: 0.4267 - accuracy: 0.8487 - val_loss: 0.3538 - val_accuracy: 0.8672\n",
      "Epoch 3/10\n",
      "750/750 [==============================] - 13s 17ms/step - loss: 0.3734 - accuracy: 0.8649 - val_loss: 0.3206 - val_accuracy: 0.8806\n",
      "Epoch 4/10\n",
      "750/750 [==============================] - 13s 17ms/step - loss: 0.3394 - accuracy: 0.8770 - val_loss: 0.3181 - val_accuracy: 0.8847\n",
      "Epoch 5/10\n",
      "750/750 [==============================] - 14s 18ms/step - loss: 0.3162 - accuracy: 0.8853 - val_loss: 0.2840 - val_accuracy: 0.8941\n",
      "Epoch 6/10\n",
      "750/750 [==============================] - 14s 18ms/step - loss: 0.3024 - accuracy: 0.8909 - val_loss: 0.2747 - val_accuracy: 0.8981\n",
      "Epoch 7/10\n",
      "750/750 [==============================] - 13s 17ms/step - loss: 0.2839 - accuracy: 0.8964 - val_loss: 0.2714 - val_accuracy: 0.9004\n",
      "Epoch 8/10\n",
      "750/750 [==============================] - 12s 16ms/step - loss: 0.2692 - accuracy: 0.9022 - val_loss: 0.2612 - val_accuracy: 0.9021\n",
      "Epoch 9/10\n",
      "750/750 [==============================] - 13s 17ms/step - loss: 0.2569 - accuracy: 0.9060 - val_loss: 0.2600 - val_accuracy: 0.9047\n",
      "Epoch 10/10\n",
      "750/750 [==============================] - 13s 18ms/step - loss: 0.2480 - accuracy: 0.9080 - val_loss: 0.2626 - val_accuracy: 0.9041\n"
     ]
    }
   ],
   "source": [
    "LEARNING_RATE = 0.001\n",
    "EPOCHS = 10\n",
    "BATCH_SIZE = 64\n",
    "\n",
    "model.compile(optimizer=Adam(learning_rate=LEARNING_RATE),\n",
    "              loss= \"categorical_crossentropy\",\n",
    "              metrics = [\"accuracy\"])\n",
    "\n",
    "history = model.fit(x_train,y_train, epochs=EPOCHS, batch_size=BATCH_SIZE, validation_split=0.2, callbacks=my_callback_list)\n",
    "\n"
   ]
  },
  {
   "cell_type": "markdown",
   "metadata": {},
   "source": [
    "# Evaluate the model"
   ]
  },
  {
   "cell_type": "code",
   "execution_count": 14,
   "metadata": {},
   "outputs": [
    {
     "name": "stdout",
     "output_type": "stream",
     "text": [
      "Test accuracy: 89.79%\n"
     ]
    }
   ],
   "source": [
    "test_loss, test_accuracy = model.evaluate(x_test, y_test, verbose=0)\n",
    "\n",
    "print(f\"Test accuracy: {test_accuracy * 100:.2f}%\")"
   ]
  },
  {
   "cell_type": "markdown",
   "metadata": {},
   "source": [
    "# Predict"
   ]
  },
  {
   "cell_type": "code",
   "execution_count": 15,
   "metadata": {},
   "outputs": [
    {
     "name": "stdout",
     "output_type": "stream",
     "text": [
      "313/313 [==============================] - 2s 5ms/step\n"
     ]
    },
    {
     "data": {
      "text/plain": [
       "array([[3.0248941e-09, 7.4391347e-11, 9.4740937e-10, ..., 4.2010477e-04,\n",
       "        1.4982168e-09, 9.9957711e-01],\n",
       "       [2.1433477e-06, 1.2944118e-12, 9.9786806e-01, ..., 1.2793003e-15,\n",
       "        9.3477071e-10, 7.9492484e-13],\n",
       "       [2.2897829e-11, 1.0000000e+00, 1.5268570e-13, ..., 5.0418258e-21,\n",
       "        9.1708181e-15, 7.7164652e-18],\n",
       "       ...,\n",
       "       [5.3212329e-07, 2.0331590e-09, 9.2712625e-08, ..., 1.1104324e-09,\n",
       "        9.9999106e-01, 2.5130698e-09],\n",
       "       [1.2272368e-08, 9.9999630e-01, 2.7611063e-10, ..., 1.4441248e-13,\n",
       "        3.6421224e-11, 5.2139534e-12],\n",
       "       [5.3659409e-05, 5.8638411e-06, 6.5548171e-05, ..., 1.5317257e-02,\n",
       "        1.3467325e-03, 3.0691342e-03]], dtype=float32)"
      ]
     },
     "execution_count": 15,
     "metadata": {},
     "output_type": "execute_result"
    }
   ],
   "source": [
    "y_pred = model.predict(x_test)\n",
    "y_pred"
   ]
  },
  {
   "cell_type": "markdown",
   "metadata": {},
   "source": [
    "# Visualize the results"
   ]
  },
  {
   "cell_type": "code",
   "execution_count": 16,
   "metadata": {},
   "outputs": [
    {
     "data": {
      "image/png": "[encoded data removed]",
      "text/plain": [
       "<Figure size 1000x500 with 1 Axes>"
      ]
     },
     "metadata": {},
     "output_type": "display_data"
    }
   ],
   "source": [
    "# Plot accuracy and validation accuracy\n",
    "plt.figure(figsize=(10, 5))\n",
    "plt.plot(history.history['accuracy'], label='Training Accuracy', marker='o')\n",
    "plt.plot(history.history['val_accuracy'], label='Validation Accuracy', marker='o')\n",
    "plt.title('Accuracy and Validation Accuracy')\n",
    "plt.xlabel('Epoch')\n",
    "plt.ylabel('Accuracy')\n",
    "plt.legend()\n",
    "plt.grid()\n",
    "plt.show()"
   ]
  },
  {
   "cell_type": "markdown",
   "metadata": {},
   "source": [
    "# Visualize the model Architecture"
   ]
  },
  {
   "cell_type": "code",
   "execution_count": 20,
   "metadata": {},
   "outputs": [],
   "source": [
    "from keras_visualizer import visualizer\n",
    "\n",
    "visualizer(model, file_name= \"./cnn_fashionmnist_network\", file_format= \"pdf\")"
   ]
  },
  {
   "cell_type": "code",
   "execution_count": 18,
   "metadata": {},
   "outputs": [
    {
     "data": {
      "image/png": "[encoded data removed]",
      "text/plain": [
       "<PIL.Image.Image image mode=RGBA size=611x139>"
      ]
     },
     "execution_count": 18,
     "metadata": {},
     "output_type": "execute_result"
    }
   ],
   "source": [
    "import visualkeras\n",
    "\n",
    "visualkeras.layered_view(model, spacing=50)"
   ]
  }
 ],
 "metadata": {
  "kernelspec": {
   "display_name": "Python 3",
   "language": "python",
   "name": "python3"
  },
  "language_info": {
   "codemirror_mode": {
    "name": "ipython",
    "version": 3
   },
   "file_extension": ".py",
   "mimetype": "text/x-python",
   "name": "python",
   "nbconvert_exporter": "python",
   "pygments_lexer": "ipython3",
   "version": "3.11.6"
  }
 },
 "nbformat": 4,
 "nbformat_minor": 2
}
