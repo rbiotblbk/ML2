{
  "cells": [
    {
      "cell_type": "markdown",
      "metadata": {
        "id": "ulL-yXXNM3oK"
      },
      "source": [
        "# GridSearchCV\n",
        "\n",
        "search for the best model hypter parameters"
      ]
    },
    {
      "cell_type": "code",
      "execution_count": null,
      "metadata": {
        "id": "2Ie9zOu6M3oO"
      },
      "outputs": [],
      "source": [
        "# from sklearn.datasets import load_digits\n",
        "# from sklearn.ensemble import RandomForestClassifier\n",
        "from sklearn.linear_model import LogisticRegression\n",
        "\n",
        "\n",
        "import pandas as pd\n",
        "\n",
        "import matplotlib.pyplot as plt\n",
        "from sklearn.metrics import confusion_matrix\n",
        "\n",
        "from sklearn.model_selection import train_test_split\n",
        "from sklearn.model_selection import GridSearchCV\n",
        "from sklearn.model_selection import RandomizedSearchCV\n",
        "\n",
        "\n",
        "from sklearn.model_selection import RepeatedStratifiedKFold\n",
        "\n",
        "from sklearn.datasets import load_iris\n",
        "# import seaborn as sn"
      ]
    },
    {
      "cell_type": "markdown",
      "metadata": {
        "id": "zc0FkeAmM3oQ"
      },
      "source": [
        "# Manual without GridSearch"
      ]
    },
    {
      "cell_type": "code",
      "execution_count": null,
      "metadata": {
        "id": "58dUbDHVNUPt"
      },
      "outputs": [],
      "source": [
        "iris = load_iris()"
      ]
    },
    {
      "cell_type": "code",
      "execution_count": null,
      "metadata": {
        "id": "o83ml_C7M3oQ"
      },
      "outputs": [],
      "source": [
        "df = pd.read_csv(\"./data/covid.csv\")\n",
        "\n",
        "X = df[[\"age\"]]\n",
        "y = df[[\"covid\"]]\n",
        "\n",
        "X_train, X_test, y_train, y_test = train_test_split(X, y , train_size= 0.8)"
      ]
    },
    {
      "cell_type": "code",
      "execution_count": null,
      "metadata": {
        "id": "lTJWZhuLM3oR"
      },
      "outputs": [],
      "source": [
        "# Create an instance of the required model\n",
        "model = LogisticRegression(solver = \"lbfgs\")\n",
        "model = LogisticRegression(solver = \"liblinear\")\n",
        "\n",
        "# Train the model\n",
        "model.fit(X_train, y_train)"
      ]
    },
    {
      "cell_type": "markdown",
      "metadata": {
        "id": "LT7Mv_APM3oR"
      },
      "source": [
        "# Using GridSearchCV"
      ]
    },
    {
      "cell_type": "code",
      "execution_count": null,
      "metadata": {
        "id": "2W7JJ3XBM3oS"
      },
      "outputs": [],
      "source": [
        "# 0. Create an instance of the model\n",
        "model = LogisticRegression()"
      ]
    },
    {
      "cell_type": "code",
      "execution_count": null,
      "metadata": {
        "id": "7CgzM0uvM3oS"
      },
      "outputs": [],
      "source": [
        "# 1. Define the Paramater Grid of the Algorithm\n",
        "param_grid =  {\n",
        "    \"solver\" : [\"lbfg\", \"liblinear\"],\n",
        "    \"C\": [100, 10, 1.0, 0.1]\n",
        "}\n"
      ]
    },
    {
      "cell_type": "code",
      "execution_count": null,
      "metadata": {
        "id": "TKvUFR4KM3oT"
      },
      "outputs": [],
      "source": [
        "# 2. Define the K-Folds for Cross Validation\n",
        "cv = RepeatedStratifiedKFold(n_splits= 10 , n_repeats= 3)\n"
      ]
    },
    {
      "cell_type": "code",
      "execution_count": null,
      "metadata": {
        "id": "kHgfli1BM3oT"
      },
      "outputs": [],
      "source": [
        "# 3. Define the GridSearchCV\n",
        "grid_search = GridSearchCV(estimator= model, param_grid=param_grid, cv=cv, scoring= \"accuracy\" )"
      ]
    },
    {
      "cell_type": "markdown",
      "metadata": {
        "id": "Od7NMOLHM3oU"
      },
      "source": [
        "# Build and Train the GridSearch"
      ]
    },
    {
      "cell_type": "code",
      "execution_count": null,
      "metadata": {
        "id": "YyATmYa6M3oU"
      },
      "outputs": [],
      "source": [
        "# 4. Fit the GridsearchCV\n",
        "grid_result = grid_search.fit(iris.data, iris.target)"
      ]
    },
    {
      "cell_type": "markdown",
      "metadata": {
        "id": "PivIKELVM3oU"
      },
      "source": [
        "# Show the best Model score and the best Parameter combination"
      ]
    },
    {
      "cell_type": "code",
      "execution_count": null,
      "metadata": {
        "id": "LheSzmnNM3oV"
      },
      "outputs": [],
      "source": [
        "print(grid_result.best_score_)\n",
        "print(grid_result.best_params_)"
      ]
    },
    {
      "cell_type": "code",
      "execution_count": null,
      "metadata": {
        "id": "w-JudC4mSJSh"
      },
      "outputs": [],
      "source": [
        "results_df = pd.DataFrame(grid_search.cv_results_)\n",
        "results_df"
      ]
    },
    {
      "cell_type": "markdown",
      "metadata": {
        "id": "aVrZHIs2M3oV"
      },
      "source": [
        "# GridSearchCV to test also several models"
      ]
    },
    {
      "cell_type": "code",
      "execution_count": null,
      "metadata": {
        "id": "zpfs09fDM3oV"
      },
      "outputs": [],
      "source": [
        "from sklearn.linear_model import LogisticRegression\n",
        "from sklearn.ensemble import RandomForestClassifier\n"
      ]
    },
    {
      "cell_type": "code",
      "execution_count": null,
      "metadata": {
        "id": "ZI9egI_CM3oW"
      },
      "outputs": [],
      "source": [
        "cv = RepeatedStratifiedKFold(n_splits= 10 , n_repeats= 3)"
      ]
    },
    {
      "cell_type": "code",
      "execution_count": null,
      "metadata": {
        "id": "G3DuoTjOM3oW"
      },
      "outputs": [],
      "source": [
        "model_param_grid = {\n",
        "\n",
        "    \"logisitc_regression\": {\n",
        "        \"model\": LogisticRegression(),\n",
        "        \"param_grid\": {\n",
        "             \"solver\" : [\"lbfg\", \"liblinear\"],\n",
        "             \"C\": [100, 10, 1.0, 0.1]\n",
        "        }\n",
        "    },\n",
        "\n",
        "    \"randomforest\": {\n",
        "        \"model\": RandomForestClassifier(),\n",
        "        \"param_grid\": {\n",
        "             \"n_estimators\" : [10 , 50 , 100, 500]\n",
        "        }\n",
        "    }\n",
        "\n",
        "}"
      ]
    },
    {
      "cell_type": "code",
      "execution_count": null,
      "metadata": {
        "colab": {
          "base_uri": "https://localhost:8080/",
          "height": 245
        },
        "id": "ZlXydYnNM3oW",
        "outputId": "a3db271b-46ff-4b8f-ecbf-0b50844ff129"
      },
      "outputs": [],
      "source": [
        "# collect the scores cross all trainings\n",
        "scores = []\n",
        "\n",
        "\n",
        "for model_name, model_param in model_param_grid.items():\n",
        "\n",
        "    grid_search = GridSearchCV(estimator= model_param[\"model\"], param_grid= model_param[\"param_grid\"], cv = cv )\n",
        "    grid_search = RandomizedSearchCV(estimator= model_param[\"model\"], param_distributions= model_param[\"param_grid\"], cv = cv , n_iter = 3)\n",
        "\n",
        "    grid_search.fit(iris.data, iris.target)\n",
        "\n",
        "    scores.append( {\n",
        "        \"model\": model_name,\n",
        "        \"best_score\": grid_search.best_score_,\n",
        "        \"best_param\": grid_search.best_params_\n",
        "    })\n",
        "\n",
        "\n"
      ]
    },
    {
      "cell_type": "code",
      "execution_count": null,
      "metadata": {
        "colab": {
          "base_uri": "https://localhost:8080/",
          "height": 112
        },
        "id": "ZfwzydnBM3oX",
        "outputId": "87349f84-10fd-4275-a855-04c68df1cbd3"
      },
      "outputs": [],
      "source": [
        "df_multi_grid = pd.DataFrame(scores, columns= [\"model\", \"best_score\", \"best_param\"])\n",
        "\n",
        "df_multi_grid"
      ]
    }
  ],
  "metadata": {
    "colab": {
      "provenance": []
    },
    "kernelspec": {
      "display_name": "Python 3",
      "language": "python",
      "name": "python3"
    },
    "language_info": {
      "name": "python",
      "version": "3.11.4"
    }
  },
  "nbformat": 4,
  "nbformat_minor": 0
}
