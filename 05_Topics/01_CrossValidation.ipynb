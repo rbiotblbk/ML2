{
 "cells": [
  {
   "cell_type": "markdown",
   "metadata": {},
   "source": [
    "# Cross Validation"
   ]
  },
  {
   "cell_type": "code",
   "execution_count": 33,
   "metadata": {},
   "outputs": [],
   "source": [
    "import numpy as np\n",
    "\n",
    "from sklearn.datasets import load_digits\n",
    "\n",
    "from sklearn.linear_model import LogisticRegression\n",
    "from sklearn.ensemble import RandomForestClassifier\n",
    "\n",
    "from sklearn.model_selection import cross_val_score\n",
    "\n",
    "from sklearn.model_selection import train_test_split\n",
    "from sklearn.model_selection import KFold\n",
    "from sklearn.model_selection import StratifiedKFold\n",
    "from sklearn.model_selection import RepeatedStratifiedKFold"
   ]
  },
  {
   "cell_type": "markdown",
   "metadata": {},
   "source": [
    "# Load Data"
   ]
  },
  {
   "cell_type": "code",
   "execution_count": 2,
   "metadata": {},
   "outputs": [],
   "source": [
    "digits = load_digits()"
   ]
  },
  {
   "cell_type": "code",
   "execution_count": null,
   "metadata": {},
   "outputs": [],
   "source": [
    "X = digits.data \n",
    "y = digits.target "
   ]
  },
  {
   "cell_type": "markdown",
   "metadata": {},
   "source": [
    "# 1. train_test_split"
   ]
  },
  {
   "cell_type": "code",
   "execution_count": 14,
   "metadata": {},
   "outputs": [],
   "source": [
    "# X_train, X_test, y_train, y_test = train_test_split(X , y , test_size= 0.2)\n",
    "X_train, X_test, y_train, y_test = train_test_split(X , y , train_size= 0.8)"
   ]
  },
  {
   "cell_type": "code",
   "execution_count": 15,
   "metadata": {},
   "outputs": [
    {
     "data": {
      "text/plain": [
       "0.9527777777777777"
      ]
     },
     "execution_count": 15,
     "metadata": {},
     "output_type": "execute_result"
    }
   ],
   "source": [
    "model1 = LogisticRegression(solver= \"liblinear\")\n",
    "model1.fit(X_train, y_train)\n",
    "\n",
    "model1.score(X_test, y_test)"
   ]
  },
  {
   "cell_type": "markdown",
   "metadata": {},
   "source": [
    "# 2. K-Fold"
   ]
  },
  {
   "cell_type": "code",
   "execution_count": 19,
   "metadata": {},
   "outputs": [
    {
     "data": {
      "text/plain": [
       "array([0.92222222, 0.88333333, 0.95264624, 0.95821727, 0.89415042])"
      ]
     },
     "execution_count": 19,
     "metadata": {},
     "output_type": "execute_result"
    }
   ],
   "source": [
    "k_folds = 5 \n",
    "\n",
    "scores = cross_val_score(model1, X ,y , cv = k_folds)\n",
    "scores"
   ]
  },
  {
   "cell_type": "code",
   "execution_count": 21,
   "metadata": {},
   "outputs": [
    {
     "data": {
      "text/plain": [
       "0.9221138966264315"
      ]
     },
     "execution_count": 21,
     "metadata": {},
     "output_type": "execute_result"
    }
   ],
   "source": [
    "score_mean = np.average(scores)\n",
    "\n",
    "score_mean"
   ]
  },
  {
   "cell_type": "code",
   "execution_count": 22,
   "metadata": {},
   "outputs": [
    {
     "data": {
      "text/plain": [
       "array([0.96388889, 0.93611111, 0.96657382, 0.96100279, 0.96657382])"
      ]
     },
     "execution_count": 22,
     "metadata": {},
     "output_type": "execute_result"
    }
   ],
   "source": [
    "# Prepare my Training data in folds\n",
    "k_folds = KFold(n_splits= 5, shuffle= True)\n",
    "# k_folds = KFold(n_splits= 5, shuffle= True, random_state= 40)\n",
    "\n",
    "\n",
    "# Use the folds in the traing phase of the model\n",
    "scores = cross_val_score(model1, X ,y , cv = k_folds)\n",
    "scores"
   ]
  },
  {
   "cell_type": "code",
   "execution_count": 23,
   "metadata": {},
   "outputs": [
    {
     "data": {
      "text/plain": [
       "0.9588300835654596"
      ]
     },
     "execution_count": 23,
     "metadata": {},
     "output_type": "execute_result"
    }
   ],
   "source": [
    "score_mean = np.average(scores)\n",
    "\n",
    "score_mean"
   ]
  },
  {
   "cell_type": "code",
   "execution_count": 25,
   "metadata": {},
   "outputs": [
    {
     "name": "stdout",
     "output_type": "stream",
     "text": [
      "Average Score 2 : 0.9221073867163252\n",
      "Average Score 3 : 0.9766201117318436\n",
      "Average Score 4 : 0.9788423339540658\n"
     ]
    }
   ],
   "source": [
    "\n",
    "# K-Folder\n",
    "k_folds = KFold(n_splits= 10, shuffle= True, random_state= 40)\n",
    "\n",
    "# Models\n",
    "model2 = RandomForestClassifier(n_estimators= 5, random_state= 40)\n",
    "model3 = RandomForestClassifier(n_estimators= 50, random_state= 40)\n",
    "model4 = RandomForestClassifier(n_estimators= 500, random_state= 40)\n",
    "\n",
    "# Cross validation\n",
    "score2 = cross_val_score(model2, X ,y , cv = k_folds)\n",
    "score3 = cross_val_score(model3, X ,y , cv = k_folds)\n",
    "score4 = cross_val_score(model4, X ,y , cv = k_folds)\n",
    "\n",
    "# Printing the average\n",
    "print(f\"Average Score 2 : {np.average(score2)}\")\n",
    "print(f\"Average Score 3 : {np.average(score3)}\")\n",
    "print(f\"Average Score 4 : {np.average(score4)}\")\n"
   ]
  },
  {
   "cell_type": "markdown",
   "metadata": {},
   "source": [
    "# 3. StratifiedKFold"
   ]
  },
  {
   "cell_type": "code",
   "execution_count": 30,
   "metadata": {},
   "outputs": [
    {
     "data": {
      "text/plain": [
       "array([0.95555556, 0.95277778, 0.95821727, 0.95821727, 0.96657382])"
      ]
     },
     "execution_count": 30,
     "metadata": {},
     "output_type": "execute_result"
    }
   ],
   "source": [
    "# Prepare my Training data in folds\n",
    "k_folds = StratifiedKFold(n_splits= 5, shuffle= True)\n",
    "# k_folds = KFold(n_splits= 5, shuffle= True, random_state= 40)\n",
    "\n",
    "\n",
    "# Use the folds in the traing phase of the model\n",
    "scores = cross_val_score(model1, X ,y , cv = k_folds)\n",
    "scores"
   ]
  },
  {
   "cell_type": "markdown",
   "metadata": {},
   "source": [
    "# 4. Repeated StratifiedKFold"
   ]
  },
  {
   "cell_type": "code",
   "execution_count": 35,
   "metadata": {},
   "outputs": [
    {
     "name": "stdout",
     "output_type": "stream",
     "text": [
      "Average Score  : 0.9586325183121842\n"
     ]
    }
   ],
   "source": [
    "# Prepare my Training data in folds\n",
    "k_folds = RepeatedStratifiedKFold(n_splits= 5, n_repeats= 3)\n",
    "\n",
    "\n",
    "# k_folds = KFold(n_splits= 5, shuffle= True, random_state= 40)\n",
    "\n",
    "\n",
    "# Use the folds in the traing phase of the model\n",
    "scores = cross_val_score(model1, X ,y , cv = k_folds)\n",
    "scores\n",
    "\n",
    "print(f\"Average Score  : {np.average(scores)}\")\n"
   ]
  },
  {
   "cell_type": "code",
   "execution_count": 36,
   "metadata": {},
   "outputs": [
    {
     "name": "stdout",
     "output_type": "stream",
     "text": [
      "Average Score  : 0.9755199628597956\n"
     ]
    }
   ],
   "source": [
    "# Prepare my Training data in folds\n",
    "k_folds = RepeatedStratifiedKFold(n_splits= 5, n_repeats= 3)\n",
    "\n",
    "\n",
    "# k_folds = KFold(n_splits= 5, shuffle= True, random_state= 40)\n",
    "\n",
    "\n",
    "# Use the folds in the traing phase of the model\n",
    "scores = cross_val_score(model4, X ,y , cv = k_folds)\n",
    "scores\n",
    "\n",
    "print(f\"Average Score  : {np.average(scores)}\")"
   ]
  }
 ],
 "metadata": {
  "kernelspec": {
   "display_name": "Python 3",
   "language": "python",
   "name": "python3"
  },
  "language_info": {
   "codemirror_mode": {
    "name": "ipython",
    "version": 3
   },
   "file_extension": ".py",
   "mimetype": "text/x-python",
   "name": "python",
   "nbconvert_exporter": "python",
   "pygments_lexer": "ipython3",
   "version": "3.11.4"
  }
 },
 "nbformat": 4,
 "nbformat_minor": 2
}
